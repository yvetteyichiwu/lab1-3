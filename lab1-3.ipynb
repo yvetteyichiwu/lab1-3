{
 "cells": [
  {
   "cell_type": "code",
   "execution_count": 3,
   "metadata": {
    "deletable": false,
    "editable": false,
    "jupyter": {
     "outputs_hidden": true,
     "source_hidden": true
    }
   },
   "outputs": [
    {
     "name": "stdout",
     "output_type": "stream",
     "text": [
      "\n"
     ]
    }
   ],
   "source": [
    "# Please do not change this cell because some hidden tests might depend on it.\n",
    "import os\n",
    "\n",
    "# Otter grader does not handle ! commands well, so we define and use our\n",
    "# own function to execute shell commands.\n",
    "def shell(commands, warn=True):\n",
    "    \"\"\"Executes the string `commands` as a sequence of shell commands.\n",
    "     \n",
    "       Prints the result to stdout and returns the exit status. \n",
    "       Provides a printed warning on non-zero exit status unless `warn` \n",
    "       flag is unset.\n",
    "    \"\"\"\n",
    "    file = os.popen(commands)\n",
    "    print (file.read().rstrip('\\n'))\n",
    "    exit_status = file.close()\n",
    "    if warn and exit_status != None:\n",
    "        print(f\"Completed with errors. Exit status: {exit_status}\\n\")\n",
    "    return exit_status\n",
    "\n",
    "shell(\"\"\"\n",
    "ls requirements.txt >/dev/null 2>&1\n",
    "if [ ! $? = 0 ]; then\n",
    " rm -rf .tmp\n",
    " git clone https://github.com/cs187-2021/lab1-3.git .tmp\n",
    " mv .tmp/tests ./\n",
    " mv .tmp/requirements.txt ./\n",
    " rm -rf .tmp\n",
    "fi\n",
    "pip install -q -r requirements.txt\n",
    "\"\"\")"
   ]
  },
  {
   "cell_type": "code",
   "execution_count": 4,
   "id": "84aa2599",
   "metadata": {
    "deletable": false,
    "editable": false
   },
   "outputs": [],
   "source": [
    "# Initialize Otter\n",
    "import otter\n",
    "grader = otter.Notebook()"
   ]
  },
  {
   "cell_type": "raw",
   "metadata": {
    "jupyter": {
     "source_hidden": true
    }
   },
   "source": [
    "%%latex\n",
    "\\newcommand{\\vect}[1]{\\mathbf{#1}}\n",
    "\\newcommand{\\cnt}[1]{\\sharp(#1)}\n",
    "\\newcommand{\\argmax}[1]{\\underset{#1}{\\operatorname{argmax}}}\n",
    "\\newcommand{\\softmax}{\\operatorname{softmax}}\n",
    "\\newcommand{\\Prob}{\\Pr}\n",
    "\\newcommand{\\given}{\\,|\\,}"
   ]
  },
  {
   "cell_type": "markdown",
   "metadata": {},
   "source": [
    "$$\n",
    "\\renewcommand{\\vect}[1]{\\mathbf{#1}}\n",
    "\\renewcommand{\\cnt}[1]{\\sharp(#1)}\n",
    "\\renewcommand{\\argmax}[1]{\\underset{#1}{\\operatorname{argmax}}}\n",
    "\\renewcommand{\\softmax}{\\operatorname{softmax}}\n",
    "\\renewcommand{\\Prob}{\\Pr}\n",
    "\\renewcommand{\\given}{\\,|\\,}\n",
    "$$"
   ]
  },
  {
   "cell_type": "markdown",
   "metadata": {
    "tags": [
     "remove_for_latex"
    ]
   },
   "source": [
    "# CS187\n",
    "## Lab 1-3 – Naive Bayes classification"
   ]
  },
  {
   "cell_type": "markdown",
   "metadata": {},
   "source": [
    "In this lab, you'll apply the naive Bayes method to the _Federalist_ papers' authorship attribution problem.\n",
    "\n",
    "After this lab, you should be able to\n",
    "\n",
    "* Derive the basic equations for the naive Bayes classification method;\n",
    "* Estimate the parameters for the naive Bayes model;\n",
    "* Determine where use of the \"log trick\" is indicated, and apply it."
   ]
  },
  {
   "cell_type": "markdown",
   "metadata": {},
   "source": [
    "New bits of Python used for the first time in the _solution set_ for this lab, and which you may therefore find useful:\n",
    "\n",
    "* [`math.log2`](https://docs.python.org/3.8/library/math.html#math.log2)"
   ]
  },
  {
   "cell_type": "markdown",
   "metadata": {},
   "source": [
    "# Preparation – Loading packages and data"
   ]
  },
  {
   "cell_type": "code",
   "execution_count": 5,
   "metadata": {
    "jupyter": {
     "source_hidden": true
    }
   },
   "outputs": [],
   "source": [
    "%matplotlib inline\n",
    "import json\n",
    "import math\n",
    "import matplotlib\n",
    "import matplotlib.pyplot as plt\n",
    "matplotlib.style.use('tableau-colorblind10')\n",
    "import torch\n",
    "import wget\n",
    "\n",
    "from collections import defaultdict"
   ]
  },
  {
   "cell_type": "code",
   "execution_count": 6,
   "metadata": {},
   "outputs": [
    {
     "name": "stdout",
     "output_type": "stream",
     "text": [
      "\r",
      "  0% [                                                          ]     0 / 16713\r",
      " 49% [............................                              ]  8192 / 16713\r",
      " 98% [........................................................  ] 16384 / 16713\r",
      "100% [..........................................................] 16713 / 16713"
     ]
    }
   ],
   "source": [
    "# Download and read the Federalist data from the json file\n",
    "os.makedirs('data', exist_ok=True)\n",
    "wget.download('https://github.com/nlp-course/data/raw/master/Federalist/federalist_data.json', out='data/')\n",
    "with open('data/federalist_data.json', 'r') as fin:\n",
    "    dataset = json.load(fin)"
   ]
  },
  {
   "cell_type": "code",
   "execution_count": 17,
   "metadata": {},
   "outputs": [
    {
     "data": {
      "text/plain": [
       "[{'authors': 'Hamilton',\n",
       "  'counts': [9, 6, 2, 0],\n",
       "  'number': '1',\n",
       "  'title': 'General Introduction'},\n",
       " {'authors': 'Hamilton',\n",
       "  'counts': [2, 4, 7, 0],\n",
       "  'number': '6',\n",
       "  'title': 'Concerning Dangers from Dissensions Between the States'},\n",
       " {'authors': 'Hamilton',\n",
       "  'counts': [13, 11, 9, 0],\n",
       "  'number': '7',\n",
       "  'title': 'The Same Subject Continued: Concerning Dangers from Dissensions Between the States'},\n",
       " {'authors': 'Hamilton',\n",
       "  'counts': [11, 3, 1, 0],\n",
       "  'number': '8',\n",
       "  'title': 'The Consequences of Hostilities Between the States'},\n",
       " {'authors': 'Hamilton',\n",
       "  'counts': [9, 4, 3, 0],\n",
       "  'number': '9',\n",
       "  'title': 'The Union as a Safeguard Against Domestic Faction and Insurrection'},\n",
       " {'authors': 'Madison',\n",
       "  'counts': [18, 0, 4, 0],\n",
       "  'number': '10',\n",
       "  'title': 'The Same Subject Continued: The Union as a Safeguard Against Domestic Faction and Insurrection'},\n",
       " {'authors': 'Hamilton',\n",
       "  'counts': [5, 6, 5, 0],\n",
       "  'number': '11',\n",
       "  'title': 'The Utility of the Union in Respect to Commercial Relations and a Navy'},\n",
       " {'authors': 'Hamilton',\n",
       "  'counts': [12, 7, 9, 0],\n",
       "  'number': '12',\n",
       "  'title': 'The Utility of the Union in Respect to Revenue'},\n",
       " {'authors': 'Hamilton',\n",
       "  'counts': [3, 2, 9, 0],\n",
       "  'number': '13',\n",
       "  'title': 'Advantage of the Union in Respect to Economy in Government'},\n",
       " {'authors': 'Madison',\n",
       "  'counts': [17, 0, 0, 1],\n",
       "  'number': '14',\n",
       "  'title': 'Objections to the Proposed Constitution from Extent of Territory Answered'}]"
      ]
     },
     "execution_count": 17,
     "metadata": {},
     "output_type": "execute_result"
    }
   ],
   "source": [
    "# As before, we extract the papers by either of Madison and Hamilton\n",
    "# to serve as training data.\n",
    "training = list(filter(lambda ex: ex['authors'] in ['Madison', 'Hamilton'],\n",
    "                       dataset))"
   ]
  },
  {
   "cell_type": "markdown",
   "metadata": {},
   "source": [
    "# The Naive Bayes method reviewed\n",
    "A quick review of the Naive Bayes (NB) method for text classification: In classification tasks, we're given a representation of some text as a vector $\\mathbf{x} = \\langle x_1, x_2, \\ldots, x_m \\rangle$ of feature values, and we'd like to determine which of a set of classes $\\{ y_1, y_2, \\ldots, y_k \\}$ the text should be classified as. \n",
    "\n",
    "> In the case at hand, the Federalist Papers, for a given document, we'll take $\\mathbf{x} = \\langle x_1, x_2, \\ldots, x_m \\rangle$ to be the sequence of words in the document, so each $x_i$ corresponds to a single word token.\n",
    "\n",
    "We might naturally think to choose that class that has the highest probability of being correct, that is, the class $y_i$ that maximizes $Pr(y_i \\mid \\mathbf{x})$.\n",
    "\n",
    "By Bayes rule (this is the \"Bayes\" part in the name \"Naive Bayes\"), \n",
    "\n",
    "\\begin{align*}\n",
    "\\argmax{i} \\Prob(y_i \\given \\vect{x}) \n",
    "&= \\argmax{i} \\frac{\\Prob(\\vect{x} \\given y_i) \\cdot \\Prob(y_i)}{\\Prob(\\vect{x})} \\\\\n",
    "&= \\argmax{i} \\Prob(\\vect{x} \\given y_i) \\cdot \\Prob(y_i)\n",
    "\\end{align*}"
   ]
  },
  {
   "cell_type": "markdown",
   "metadata": {
    "deletable": false,
    "editable": false
   },
   "source": [
    "<!-- BEGIN QUESTION -->\n",
    "\n",
    "**Question**: Why can we drop the denominator in the last step of this derivation?\n",
    "<!--\n",
    "BEGIN QUESTION\n",
    "name: open_response_denominator\n",
    "manual: true\n",
    "-->"
   ]
  },
  {
   "cell_type": "markdown",
   "id": "e0399972",
   "metadata": {},
   "source": [
    "_Because Pr(x) will be constant as we compute through different y_i, as x is the document vector and we are only working with one document at a time._"
   ]
  },
  {
   "cell_type": "markdown",
   "metadata": {},
   "source": [
    "<!-- END QUESTION -->\n",
    "\n",
    "\n",
    "\n",
    "We use the following terminology: $\\Prob(y_i)$ is the _prior probability_. $\\Prob(\\vect{x} \\given y_i)$ is the _likelihood_. \n",
    "$\\Prob(y_i \\given \\vect{x})$ is the _posterior probability_.\n",
    "\n",
    "By the chain rule, \n",
    "\n",
    "\\begin{align*}\n",
    "\\Prob(\\vect{x} \\given y_i) &= \\Prob(x_1, \\ldots, x_m \\given y_i) \\\\\n",
    "&= \\Prob(x_1 \\given y_i) \\cdot \\Prob(x_2, \\ldots, x_m \\given x_1, y_i) \\\\\n",
    "&= \\Prob(x_1 \\given y_i) \\cdot \\Prob(x_2 \\given x_1, y_i) \\cdot \\Prob(x_3, \\ldots,\n",
    "x_m \\given x_1, x_2, y_i) \\\\\n",
    "\\cdots &= \\prod_{j=1}^m \\Prob(x_j \\given x_1, \\ldots, x_{j-1}, y_i)\n",
    "\\end{align*}\n",
    "\n",
    "We further assume that each feature $x_i$ is independent of all the others given the class. (That's the \"naive\" part.) So \n",
    "\n",
    "$$\n",
    "\\Prob(x_j \\given x_1, \\ldots, x_{j-1}, y_i) \\approx \\Prob(x_j \\given y_i)\n",
    "$$\n",
    "\n",
    "Using this approximation, we'll calculate instead the class as per the following maximization:\n",
    "\n",
    "$$\n",
    "\\argmax{i} \\Prob(y_i \\given \\vect{x}) \\approx \\argmax{i} \\Prob(y_i) \\cdot \\prod_{j=1}^m \\Prob(x_j \\given y_i)\n",
    "$$\n",
    "\n",
    "> This independence assumption, in the text case, amounts to ignoring the order and even the cooccurence of words in a document, a quite aggressive and unrealistic independence assumption indeed.\n",
    "\n",
    "All we need, then, for the Naive Bayes classification method is values for $\\Prob(y_i)$ and $\\Prob(x_j \\given y_i)$ for each feature $x_j$ and each class $y_i$. These constitute the parameters of the model, which we will learn from a training dataset."
   ]
  },
  {
   "cell_type": "markdown",
   "metadata": {},
   "source": [
    "# Naive Bayes for the Federalist papers\n",
    "\n",
    "In applying Naive Bayes to an example in the Federalist dataset, we'll take the $x_i$ to be the _tokens in the example_. To make the calculations easier, in this lab, we won't use _all_ of the tokens, just the tokens of the four word types we've been attending to, but in an actual application of NB, we'd use (essentially) all of the word types. As a reminder,"
   ]
  },
  {
   "cell_type": "code",
   "execution_count": 34,
   "metadata": {},
   "outputs": [],
   "source": [
    "keywords = ['on', 'upon', 'there', 'whilst']"
   ]
  },
  {
   "cell_type": "markdown",
   "metadata": {},
   "source": [
    "and the two class labels are"
   ]
  },
  {
   "cell_type": "code",
   "execution_count": 35,
   "metadata": {},
   "outputs": [],
   "source": [
    "classes = ['Hamilton', 'Madison']"
   ]
  },
  {
   "cell_type": "markdown",
   "metadata": {},
   "source": [
    "### Estimating the prior probabilities"
   ]
  },
  {
   "cell_type": "markdown",
   "metadata": {
    "deletable": false,
    "editable": false
   },
   "source": [
    "Let's start with the prior probabilities $\\Prob(y_i)$. In our case, there are only two class labels, for Hamilton and Madison. We estimate the probability of a class $y_i$ by simply counting the proportion of examples that are labeled with that class. (This estimate is the *sample probability*, which is also referred to as the *maximum likelihood estimate* for reasons we'll skip for the moment.) That is, we estimate \n",
    "\n",
    "$$ \\Prob(y_i) \\approx \\frac{\\cnt{y_i}}{N} $$\n",
    "\n",
    "where $N$ is the number of training examples, and $\\cnt{y_i}$ is the number of training examples of class $y_i$.\n",
    "\n",
    "In the cell below, write code to count how many of the training examples are labeled with Hamilton and how many are labeled with Madison. Use these to provide estimates of the Hamilton and Madison prior probabilities.\n",
    "<!--\n",
    "BEGIN QUESTION\n",
    "name: priors\n",
    "-->"
   ]
  },
  {
   "cell_type": "code",
   "execution_count": 36,
   "metadata": {},
   "outputs": [],
   "source": [
    "#TODO - Calculate the prior probabilities for Madison and Hamilton as floats.\n",
    "prior_madison = len(list(filter(lambda ex: ex['authors'] in ['Madison'],\n",
    "                       training)))/len(training)\n",
    "prior_hamilton = len(list(filter(lambda ex: ex['authors'] in ['Hamilton'],\n",
    "                       training)))/len(training)"
   ]
  },
  {
   "cell_type": "code",
   "execution_count": 37,
   "id": "388a7942",
   "metadata": {
    "deletable": false,
    "editable": false
   },
   "outputs": [
    {
     "data": {
      "text/html": [
       "\n",
       "    \n",
       "    \n",
       "        <p>All tests passed!</p>\n",
       "    \n",
       "    "
      ],
      "text/plain": [
       "\n",
       "    All tests passed!\n",
       "    "
      ]
     },
     "execution_count": 37,
     "metadata": {},
     "output_type": "execute_result"
    }
   ],
   "source": [
    "grader.check(\"priors\")"
   ]
  },
  {
   "cell_type": "code",
   "execution_count": 38,
   "metadata": {},
   "outputs": [
    {
     "name": "stdout",
     "output_type": "stream",
     "text": [
      "Madison  prior: 0.2273\n",
      "Hamilton prior: 0.7727\n"
     ]
    }
   ],
   "source": [
    "print(f\"Madison  prior: {prior_madison:.4f}\\n\"\n",
    "      f\"Hamilton prior: {prior_hamilton:.4f}\")"
   ]
  },
  {
   "cell_type": "markdown",
   "metadata": {
    "deletable": false,
    "editable": false
   },
   "source": [
    "<!-- BEGIN QUESTION -->\n",
    "\n",
    "**Question:** What do these probabilities tell us about how we might predict the class of a _Federalist_ document _prior_ to looking at the actual content of the document? (That's why these probabilities are called \"priors\".)\n",
    "<!--\n",
    "BEGIN QUESTION\n",
    "name: open_response_priors\n",
    "manual: true\n",
    "-->"
   ]
  },
  {
   "cell_type": "markdown",
   "id": "f87a1f76",
   "metadata": {},
   "source": [
    "_All else equal, we are more likely to predict that Hamilton is the author, since the prior probability for Hamilton is greater._"
   ]
  },
  {
   "cell_type": "markdown",
   "metadata": {},
   "source": [
    "<!-- END QUESTION -->\n",
    "\n",
    "\n",
    "\n",
    "## Estimating the likelihood probabilities"
   ]
  },
  {
   "cell_type": "markdown",
   "metadata": {},
   "source": [
    "Now for the likelihood probabilities, the conditional probability of a word given a class. For each likelihood $\\Prob(x_j \\given y_i)$, we need to estimate a value. We'll do so by simply counting the number of training examples with feature value $x_j$ that are labeled $y_i$ (notated as $\\cnt{x_j, y_i}$) as a proportion of the overall number of words labeled as $y_i$, that is,\n",
    "\n",
    "$$ \\Prob(x_j \\given y_i) \\approx \\frac{\\cnt{x_j, y_i}}{\\sum_k \\cnt{x_k, y_i}} $$\n",
    "\n",
    "Again, for the text case, each token counts as an instance of the corresponding word type in a training example. Note that $\\sum_k \\cnt{x_k, y_i}$ is not the same as $\\cnt{y_i}$.\n",
    " \n",
    "We've provided a small table that shows, for each label (author) and each of the four word types of interest, how many tokens of the type occurred in training examples with that label."
   ]
  },
  {
   "cell_type": "code",
   "execution_count": 23,
   "metadata": {},
   "outputs": [
    {
     "name": "stdout",
     "output_type": "stream",
     "text": [
      "                on    upon   there  whilst\n",
      "Hamilton       390     377     369       1\n",
      "Madison        308       7      32      12\n"
     ]
    }
   ],
   "source": [
    "def counts(dataset, label, index):\n",
    "    \"\"\"Returns the total count for `index` for examples with the \n",
    "       given `label`\"\"\"\n",
    "    return sum([example['counts'][index] \n",
    "                for example in dataset \n",
    "                if example['authors'] == label])\n",
    "\n",
    "# print a table header\n",
    "print(f\"{'':10}\", end=\"\")\n",
    "for i in range(4):\n",
    "    print(f\"{keywords[i]:>8}\", end=\"\")\n",
    "print()\n",
    "# print table entries for each label\n",
    "for label in classes:\n",
    "    print(f\"{label:10}\", end=\"\")\n",
    "    for i in range(4):\n",
    "        print(f\"{counts(training, label, i):8}\", end=\"\")\n",
    "    print()"
   ]
  },
  {
   "cell_type": "markdown",
   "metadata": {
    "deletable": false,
    "editable": false
   },
   "source": [
    "Given the counts in this table, what would an estimate be for the probability that a given word would be \"whilst\" given that the document was authored by Madison, that is, $\\Prob(\\mathrm{whilst} \\given \\mathrm{Madison})$?\n",
    "<!--\n",
    "BEGIN QUESTION\n",
    "name: prob_whilst_madison\n",
    "-->"
   ]
  },
  {
   "cell_type": "code",
   "execution_count": null,
   "metadata": {},
   "outputs": [],
   "source": []
  },
  {
   "cell_type": "code",
   "execution_count": 43,
   "metadata": {},
   "outputs": [
    {
     "data": {
      "text/plain": [
       "0.033426183844011144"
      ]
     },
     "execution_count": 43,
     "metadata": {},
     "output_type": "execute_result"
    }
   ],
   "source": [
    "#TODO - Define this variable to be the specified probability.\n",
    "prob_whilst_madison = counts(training, 'Madison', 3)/sum(counts(training, 'Madison', index) for index in range(4))\n",
    "prob_whilst_madison"
   ]
  },
  {
   "cell_type": "code",
   "execution_count": 44,
   "id": "226b9c40",
   "metadata": {
    "deletable": false,
    "editable": false
   },
   "outputs": [
    {
     "data": {
      "text/html": [
       "\n",
       "    \n",
       "    \n",
       "        <p>All tests passed!</p>\n",
       "    \n",
       "    "
      ],
      "text/plain": [
       "\n",
       "    All tests passed!\n",
       "    "
      ]
     },
     "execution_count": 44,
     "metadata": {},
     "output_type": "execute_result"
    }
   ],
   "source": [
    "grader.check(\"prob_whilst_madison\")"
   ]
  },
  {
   "cell_type": "markdown",
   "metadata": {
    "deletable": false,
    "editable": false
   },
   "source": [
    "What about the probability $\\Prob(\\mathrm{on} \\given \\mathrm{Hamilton})$?\n",
    "<!--\n",
    "BEGIN QUESTION\n",
    "name: prob_on_hamilton\n",
    "-->"
   ]
  },
  {
   "cell_type": "code",
   "execution_count": 46,
   "metadata": {},
   "outputs": [
    {
     "data": {
      "text/plain": [
       "0.34300791556728233"
      ]
     },
     "execution_count": 46,
     "metadata": {},
     "output_type": "execute_result"
    }
   ],
   "source": [
    "#TODO - Define this variable to be the specified probability.\n",
    "prob_on_hamilton = counts(training, 'Hamilton', 0)/sum(counts(training, 'Hamilton', index) for index in range(4))\n",
    "prob_on_hamilton"
   ]
  },
  {
   "cell_type": "code",
   "execution_count": 47,
   "id": "9af0e975",
   "metadata": {
    "deletable": false,
    "editable": false
   },
   "outputs": [
    {
     "data": {
      "text/html": [
       "\n",
       "    \n",
       "    \n",
       "        <p>All tests passed!</p>\n",
       "    \n",
       "    "
      ],
      "text/plain": [
       "\n",
       "    All tests passed!\n",
       "    "
      ]
     },
     "execution_count": 47,
     "metadata": {},
     "output_type": "execute_result"
    }
   ],
   "source": [
    "grader.check(\"prob_on_hamilton\")"
   ]
  },
  {
   "cell_type": "markdown",
   "metadata": {
    "deletable": false,
    "editable": false
   },
   "source": [
    "Consider a sample text \n",
    "\n",
    "> **whilst** depending neither **on** the American government nor **on** the British\n",
    "\n",
    "What would the Naive Bayes method estimate be for the likelihood of this sentence if it was by Hamilton? By Madison? (You should of course ignore all the tokens in our little sample text except for tokens of the four keyword types. (We've boldfaced their occurrences.) With a full-blown NB analysis, we'd be using *all* of the words in the text.)\n",
    "<!--\n",
    "BEGIN QUESTION\n",
    "name: likelihoods\n",
    "-->"
   ]
  },
  {
   "cell_type": "code",
   "execution_count": 48,
   "metadata": {},
   "outputs": [],
   "source": [
    "prob_on_madison = counts(training, 'Madison', 0)/sum(counts(training, 'Madison', index) for index in range(4))\n",
    "prob_whilst_hamilton = counts(training, 'Hamilton', 3)/sum(counts(training, 'Hamilton', index) for index in range(4))"
   ]
  },
  {
   "cell_type": "code",
   "execution_count": 49,
   "metadata": {},
   "outputs": [],
   "source": [
    "#TODO - Define the variables to be the corresponding likelihood probabilities.\n",
    "likelihood_hamilton = prob_whilst_hamilton * (prob_on_hamilton ** 2)\n",
    "likelihood_madison = prob_whilst_madison * (prob_on_madison ** 2)"
   ]
  },
  {
   "cell_type": "code",
   "execution_count": 50,
   "id": "03f0f228",
   "metadata": {
    "deletable": false,
    "editable": false
   },
   "outputs": [
    {
     "data": {
      "text/html": [
       "\n",
       "    \n",
       "    \n",
       "        <p>All tests passed!</p>\n",
       "    \n",
       "    "
      ],
      "text/plain": [
       "\n",
       "    All tests passed!\n",
       "    "
      ]
     },
     "execution_count": 50,
     "metadata": {},
     "output_type": "execute_result"
    }
   ],
   "source": [
    "grader.check(\"likelihoods\")"
   ]
  },
  {
   "cell_type": "code",
   "execution_count": 51,
   "metadata": {},
   "outputs": [
    {
     "name": "stdout",
     "output_type": "stream",
     "text": [
      "Madison  likelihood: 0.024604\n",
      "Hamilton likelihood: 0.000103\n"
     ]
    }
   ],
   "source": [
    "print(f\"Madison  likelihood: {likelihood_madison:4f}\\n\"\n",
    "      f\"Hamilton likelihood: {likelihood_hamilton:4f}\")"
   ]
  },
  {
   "cell_type": "markdown",
   "metadata": {},
   "source": [
    "## Posterior probabilities"
   ]
  },
  {
   "cell_type": "markdown",
   "metadata": {
    "deletable": false,
    "editable": false
   },
   "source": [
    "We're almost there. We simply need to combine the prior probabilities and the likelihood probabilities for each class to form the posterior, and select the largest one. As a reminder, we don't actually calculate the posterior _probability_ because we aren't dividing through by $\\Prob(\\vect{x})$. Instead, we get something like a posterior _score_.\n",
    "\n",
    "Calculate the posteriors for the two classes, and then specify which class – Hamilton or Madison – the NB method would predict for the sample text.\n",
    "<!--\n",
    "BEGIN QUESTION\n",
    "name: posteriors\n",
    "-->"
   ]
  },
  {
   "cell_type": "code",
   "execution_count": 56,
   "metadata": {},
   "outputs": [],
   "source": [
    "#TODO - Define the variables to be the corresponding posterior probabilities, \n",
    "#       and the classification of the sample phrase.\n",
    "posterior_madison = prior_madison * likelihood_madison\n",
    "posterior_hamilton = prior_hamilton * likelihood_hamilton\n",
    "sample_classification = 'Madison' if posterior_madison > posterior_hamilton else 'Hamilton'"
   ]
  },
  {
   "cell_type": "code",
   "execution_count": 57,
   "id": "85eda02c",
   "metadata": {
    "deletable": false,
    "editable": false
   },
   "outputs": [
    {
     "data": {
      "text/html": [
       "\n",
       "    \n",
       "    \n",
       "        <p>All tests passed!</p>\n",
       "    \n",
       "    "
      ],
      "text/plain": [
       "\n",
       "    All tests passed!\n",
       "    "
      ]
     },
     "execution_count": 57,
     "metadata": {},
     "output_type": "execute_result"
    }
   ],
   "source": [
    "grader.check(\"posteriors\")"
   ]
  },
  {
   "cell_type": "code",
   "execution_count": 58,
   "metadata": {},
   "outputs": [
    {
     "name": "stdout",
     "output_type": "stream",
     "text": [
      "Madison  posterior: 0.005592\n",
      "Hamilton posterior: 0.000080\n",
      "Sample classification: Madison\n"
     ]
    }
   ],
   "source": [
    "print(f\"Madison  posterior: {posterior_madison:4f}\\n\"\n",
    "      f\"Hamilton posterior: {posterior_hamilton:4f}\\n\"\n",
    "      f\"Sample classification: {sample_classification}\")"
   ]
  },
  {
   "cell_type": "markdown",
   "metadata": {
    "deletable": false,
    "editable": false
   },
   "source": [
    "<!-- BEGIN QUESTION -->\n",
    "\n",
    "**Question:** Is the NB-predicted classification the same as or different from the classification based on the priors? Why?\n",
    "<!--\n",
    "BEGIN QUESTION\n",
    "name: open_response_nb_v_priors\n",
    "manual: true\n",
    "-->"
   ]
  },
  {
   "cell_type": "markdown",
   "id": "8e19df9b",
   "metadata": {},
   "source": [
    "_No, the priors predicted Hamilton instead Madison. This is because P(whilst|Hamilton) is very low._"
   ]
  },
  {
   "cell_type": "markdown",
   "metadata": {},
   "source": [
    "<!-- END QUESTION -->\n",
    "\n",
    "\n",
    "\n",
    "## A practical issue\n",
    "\n",
    "The computations of what we've been calling the posterior scores\n",
    "$$\\Prob(y_i \\given \\vect{x}) \\approx \\Prob(y_i) \\cdot \\prod_{j=1}^m \\Prob(x_j \\given y_i)$$\n",
    "involve the multiplication of many extremely small numbers. This is a recipe for [_arithmetic underflow_](https://en.wikipedia.org/wiki/Arithmetic_underflow), leading to garbage outputs.\n",
    "\n",
    "Instead, rather than maximizing the posterior, we can maximize its logarithm. Since the logarithm function is monotonic (see the next cell for a figure), whichever $i$ maximizes the posterior maximizes its log as well."
   ]
  },
  {
   "cell_type": "code",
   "execution_count": 60,
   "metadata": {
    "jupyter": {
     "source_hidden": true
    }
   },
   "outputs": [
    {
     "data": {
      "image/png": "[encoded data removed]",
      "text/plain": [
       "<Figure size 432x288 with 1 Axes>"
      ]
     },
     "metadata": {
      "needs_background": "light"
     },
     "output_type": "display_data"
    }
   ],
   "source": [
    "def log_plot():\n",
    "    x = torch.linspace(1e-10, 1, 100)\n",
    "    fig, ax = plt.subplots()\n",
    "    ax.plot(x, torch.log2(x), label = \"log_2\")\n",
    "    plt.title(\"Monotonicity of logarithm\")\n",
    "    plt.legend()\n",
    "    \n",
    "log_plot()"
   ]
  },
  {
   "cell_type": "markdown",
   "metadata": {
    "deletable": false,
    "editable": false
   },
   "source": [
    "The log of the posterior is\n",
    "$$\\log \\left(\\Prob(y_i) \\cdot \\prod_{j=1}^m \\Prob(x_j \\given y_i)\\right)\n",
    "      = \\log\\Prob(y_i) + \\sum_{j=1}^m \\log\\Prob(x_j \\given y_i)$$\n",
    "so that the calculation now involves the sum of a bunch of numbers rather than the product. In practice, this computation is much more robust.\n",
    "\n",
    "> A log-of-probability value is referred to, colloquially if not quite accurately, as a *logit*, because of a resemblance to the values of [the logit function](https://en.wikipedia.org/wiki/Logit).\n",
    "\n",
    "Calculate the log of the posterior for Madison for the sample text by summing up all of the pertinent logits, and similarly for Hamilton. Use the base 2 logarithm.\n",
    "<!--\n",
    "BEGIN QUESTION\n",
    "name: log_posteriors\n",
    "-->"
   ]
  },
  {
   "cell_type": "code",
   "execution_count": 64,
   "metadata": {},
   "outputs": [],
   "source": [
    "#TODO - Calculate the log of the posterior for Madison by summing up all \n",
    "#       of the pertinent parts.\n",
    "log_posterior_madison = math.log2(prior_madison) + math.log2(prob_whilst_madison) + math.log2(prob_on_madison) * 2\n",
    "log_posterior_hamilton = math.log2(prior_hamilton) + math.log2(prob_whilst_hamilton) + math.log2(prob_on_hamilton) * 2"
   ]
  },
  {
   "cell_type": "code",
   "execution_count": 65,
   "id": "43077034",
   "metadata": {
    "deletable": false,
    "editable": false
   },
   "outputs": [
    {
     "data": {
      "text/html": [
       "\n",
       "    \n",
       "    \n",
       "        <p>All tests passed!</p>\n",
       "    \n",
       "    "
      ],
      "text/plain": [
       "\n",
       "    All tests passed!\n",
       "    "
      ]
     },
     "execution_count": 65,
     "metadata": {},
     "output_type": "execute_result"
    }
   ],
   "source": [
    "grader.check(\"log_posteriors\")"
   ]
  },
  {
   "cell_type": "code",
   "execution_count": 66,
   "metadata": {},
   "outputs": [
    {
     "name": "stdout",
     "output_type": "stream",
     "text": [
      "Madison  log posterior:   -7.482\n",
      "Hamilton log posterior:  -13.610\n"
     ]
    }
   ],
   "source": [
    "print(f\"Madison  log posterior: {log_posterior_madison:8.3f}\\n\"\n",
    "      f\"Hamilton log posterior: {log_posterior_hamilton:8.3f}\")"
   ]
  },
  {
   "cell_type": "markdown",
   "metadata": {
    "deletable": false,
    "editable": false
   },
   "source": [
    "<!-- BEGIN QUESTION -->\n",
    "\n",
    "**Question:** Which one of the two is larger? Does this accord with your expectation?\n",
    "<!--\n",
    "BEGIN QUESTION\n",
    "name: open_response_posterior\n",
    "manual: true\n",
    "-->"
   ]
  },
  {
   "cell_type": "markdown",
   "id": "81fb826d",
   "metadata": {},
   "source": [
    "_The log of the posterior for Madison is larger, which is expected because the posterior for Madison in larger and the log function is monotonic increasing._"
   ]
  },
  {
   "cell_type": "markdown",
   "metadata": {
    "deletable": false,
    "editable": false
   },
   "source": [
    "<!-- END QUESTION -->\n",
    "\n",
    "<!-- BEGIN QUESTION -->\n",
    "\n",
    "# Lab debrief – for consensus submission only\n",
    "\n",
    "**Question:** We're interested in any thoughts your group has about this lab so that we can improve this lab for later years, and to inform later labs for this year. Please list any issues that arose or comments you have to improve the lab. Useful things to comment on include the following: \n",
    "\n",
    "* Was the lab too long or too short?\n",
    "* Were the readings appropriate for the lab? \n",
    "* Was it clear (at least after you completed the lab) what the points of the exercises were? \n",
    "* Are there additions or changes you think would make the lab better?\n",
    "\n",
    "<!--\n",
    "BEGIN QUESTION\n",
    "name: open_response_debrief\n",
    "manual: true\n",
    "-->"
   ]
  },
  {
   "cell_type": "markdown",
   "id": "67a37b13",
   "metadata": {},
   "source": [
    "_Type your answer here, replacing this text._"
   ]
  },
  {
   "cell_type": "markdown",
   "metadata": {},
   "source": [
    "<!-- END QUESTION -->\n",
    "\n",
    "\n",
    "\n",
    "# End of lab 3"
   ]
  },
  {
   "cell_type": "markdown",
   "id": "526a85a3",
   "metadata": {
    "deletable": false,
    "editable": false
   },
   "source": [
    "---\n",
    "\n",
    "To double-check your work, the cell below will rerun all of the autograder tests."
   ]
  },
  {
   "cell_type": "code",
   "execution_count": 67,
   "id": "a2b1f74b",
   "metadata": {
    "deletable": false,
    "editable": false
   },
   "outputs": [
    {
     "data": {
      "text/html": [
       "<p><strong>likelihoods:</strong></p>\n",
       "\n",
       "    \n",
       "    \n",
       "        <p>All tests passed!</p>\n",
       "    \n",
       "    \n",
       "\n",
       "<p><strong>log_posteriors:</strong></p>\n",
       "\n",
       "    \n",
       "    \n",
       "        <p>All tests passed!</p>\n",
       "    \n",
       "    \n",
       "\n",
       "<p><strong>posteriors:</strong></p>\n",
       "\n",
       "    \n",
       "    \n",
       "        <p>All tests passed!</p>\n",
       "    \n",
       "    \n",
       "\n",
       "<p><strong>priors:</strong></p>\n",
       "\n",
       "    \n",
       "    \n",
       "        <p>All tests passed!</p>\n",
       "    \n",
       "    \n",
       "\n",
       "<p><strong>prob_on_hamilton:</strong></p>\n",
       "\n",
       "    \n",
       "    \n",
       "        <p>All tests passed!</p>\n",
       "    \n",
       "    \n",
       "\n",
       "<p><strong>prob_whilst_madison:</strong></p>\n",
       "\n",
       "    \n",
       "    \n",
       "        <p>All tests passed!</p>\n",
       "    \n",
       "    \n",
       "\n"
      ],
      "text/plain": [
       "likelihoods:\n",
       "\n",
       "    All tests passed!\n",
       "    \n",
       "\n",
       "log_posteriors:\n",
       "\n",
       "    All tests passed!\n",
       "    \n",
       "\n",
       "posteriors:\n",
       "\n",
       "    All tests passed!\n",
       "    \n",
       "\n",
       "priors:\n",
       "\n",
       "    All tests passed!\n",
       "    \n",
       "\n",
       "prob_on_hamilton:\n",
       "\n",
       "    All tests passed!\n",
       "    \n",
       "\n",
       "prob_whilst_madison:\n",
       "\n",
       "    All tests passed!\n",
       "    \n"
      ]
     },
     "execution_count": 67,
     "metadata": {},
     "output_type": "execute_result"
    }
   ],
   "source": [
    "grader.check_all()"
   ]
  },
  {
   "cell_type": "code",
   "execution_count": null,
   "metadata": {},
   "outputs": [],
   "source": []
  }
 ],
 "metadata": {
  "kernelspec": {
   "display_name": "Python 3 (ipykernel)",
   "language": "python",
   "name": "python3"
  },
  "language_info": {
   "codemirror_mode": {
    "name": "ipython",
    "version": 3
   },
   "file_extension": ".py",
   "mimetype": "text/x-python",
   "name": "python",
   "nbconvert_exporter": "python",
   "pygments_lexer": "ipython3",
   "version": "3.8.3"
  },
  "title": "CS187 Lab 1-3: Naive Bayes classification"
 },
 "nbformat": 4,
 "nbformat_minor": 4
}
